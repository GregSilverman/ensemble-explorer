{
 "cells": [
  {
   "cell_type": "markdown",
   "metadata": {},
   "source": [
    "### Create data dictionary for w2v embeddings"
   ]
  },
  {
   "cell_type": "code",
   "execution_count": null,
   "metadata": {},
   "outputs": [],
   "source": [
    "import pandas as pd\n",
    "\n",
    "dir_to_parse = '/Volumes/Data/AHC IE DATA REQUESTS/PakhomovS-U01/'"
   ]
  },
  {
   "cell_type": "code",
   "execution_count": null,
   "metadata": {},
   "outputs": [],
   "source": [
    "df =  pd.read_csv(dir_to_parse + 'test.txt',sep=\"|\")\n",
    "print(df.head())\n",
    "print(df.columns)"
   ]
  },
  {
   "cell_type": "code",
   "execution_count": null,
   "metadata": {},
   "outputs": [],
   "source": [
    "patient_id  = set(df['patient_id'].tolist())\n",
    "print(patient_id)"
   ]
  },
  {
   "cell_type": "code",
   "execution_count": null,
   "metadata": {},
   "outputs": [],
   "source": [
    "enc = pd.read_csv(dir_to_parse + 'service_dates.txt',sep=\"|\")\n",
    "enc['encounter_date'] = enc['encounter_date'].astype('datetime64[ns]')\n",
    "print(enc.head())\n",
    "print(enc.columns)"
   ]
  },
  {
   "cell_type": "code",
   "execution_count": null,
   "metadata": {},
   "outputs": [],
   "source": [
    "import numpy as np\n",
    "\n",
    "codes = pd.read_csv(dir_to_parse + 'test_icd9.txt',sep=\"|\")\n",
    "print(codes.head(), len(codes))\n",
    "print(codes.columns)\n",
    "\n",
    "# add random ints for testing\n",
    "codes['icd9'] = np.random.randint(0,1000,size=(len(codes),1)) \n",
    "print(codes.head())\n",
    "\n",
    "#print(codes['icd9'].copy().tolist())"
   ]
  },
  {
   "cell_type": "code",
   "execution_count": null,
   "metadata": {},
   "outputs": [],
   "source": [
    "# Operations for random date shift: https://stackoverflow.com/questions/30926323/how-to-do-a-calculation-on-python-with-a-random-operator/30926409\n",
    "operators = [\"+\",\"-\"]  \n",
    "import operator as op\n",
    "oper = {'+': op.add, '-': op.sub}"
   ]
  },
  {
   "cell_type": "code",
   "execution_count": null,
   "metadata": {},
   "outputs": [],
   "source": [
    "from datetime import timedelta\n",
    "def shift_date(df, fn, n):\n",
    "\n",
    "    df[\"date_shift\"] = fn(df[\"encounter_date\"], timedelta(days=n)).dt.strftime('%Y-%m-%d')\n",
    "    \n",
    "    return df"
   ]
  },
  {
   "cell_type": "code",
   "execution_count": null,
   "metadata": {},
   "outputs": [],
   "source": [
    "import random\n",
    "from random import randrange, uniform\n",
    "import numpy as np\n",
    "\n",
    "test = dict()\n",
    "\n",
    "df['score'], df['concept'] = df['attributes'].str.split(',', 1).str\n",
    "df['concept'] = df['concept'].str[15:-2] # handle extracting element from string\n",
    "df = df.drop(['score'], axis=1)\n",
    "df['neg'] = np.where(df['negated'] != 'F', '~', '')\n",
    "\n",
    "print(df.head())\n",
    "df['CUI'] = [{key: val} for key, val in zip(df.item, df.neg + df.concept)]\n",
    "\n",
    "for i in patient_id:  \n",
    "    print(i)\n",
    "    service_ids = df['service_id'][df['patient_id']==i].copy()\n",
    "   \n",
    "    # merge encounter dates with notes\n",
    "    dates = enc.merge(service_ids, left_on=\"service_id\", right_on=\"service_id\", how=\"inner\").drop_duplicates()\n",
    "    \n",
    "    icd9 = codes.merge(service_ids, left_on=\"service_id\", right_on=\"service_id\", how=\"inner\")\n",
    "    \n",
    "    # shift date by randrange: gives you an integral value\n",
    "    irand = randrange(1, 365)\n",
    "    #picked_operator = random.choice(oper)\n",
    "    # get random oepration\n",
    "    fn = oper[random.choice(operators)]\n",
    "    \n",
    "    #print(irand, picked_operator)\n",
    "   \n",
    "    # iterate over encounters\n",
    "    for s in set(service_ids.tolist()):\n",
    "        \n",
    "        enc_date = dates[dates['service_id'] == s].copy()\n",
    "        icdcodes = codes[codes['service_id'] == s].copy()\n",
    "       \n",
    "        # deidentified patient_id\n",
    "        enc_date['uuid'] = enc_date['uuid'].str.replace('}','')\n",
    "        enc_date['uuid'] = enc_date['uuid'].str.replace('{','')\n",
    "        uuid = enc_date['uuid'].values[0]\n",
    "        #print('ttest', uuid)\n",
    "        \n",
    "        #print(shift_date(enc_date, picked_operator, irand))\n",
    "        \n",
    "        # shift date by irand and rand operator\n",
    "        rand_date = shift_date(enc_date, fn, irand)['date_shift'].values[0]\n",
    "        #print('test', rand_date)\n",
    "        \n",
    "        df1 = df[df['service_id'] == s].copy()\n",
    "    \n",
    "        # get series of CUIS\n",
    "        cuis = df1['CUI'].copy()\n",
    "        icd = icdcodes['icd9'].copy()\n",
    "        \n",
    "        icd = icd.tolist()\n",
    "        \n",
    "        # get count for CUIs \n",
    "        df2 = df1.groupby('item').first().copy()\n",
    "        df2['n'] = df1['item'].value_counts()\n",
    "        df2.reset_index(inplace=True)\n",
    "        counts = df2[['item','n']].copy()\n",
    "        counts['count'] = [{key: val} for key, val in zip(counts.item, counts.n)]\n",
    "        \n",
    "        # encounter key\n",
    "        #s = str(s)+str(rand_date)\n",
    "        s = str(uuid)+str(rand_date)\n",
    "        \n",
    "        \n",
    "#         if str(i) == str(3822760233):\n",
    "        if uuid not in test: # if i not in test:\n",
    "            # list of dictionaries of cuis, iem counts, respectitvely, to list of single dictionary\n",
    "            a = {k: v for d in cuis.tolist() for k, v in d.items()}\n",
    "            b = {k: v for d in counts['count'].tolist() for k, v in d.items()}\n",
    "            c = {'icd9': icd}\n",
    "            \n",
    "            #test[i] = {s: [[a, b], rand_date]}\n",
    "            test[uuid] = {s: [c, [a, b], rand_date]}\n",
    "        else:\n",
    "            a = {k: v for d in cuis.tolist() for k, v in d.items()}\n",
    "            b = {k: v for d in counts['count'].tolist() for k, v in d.items()}\n",
    "            c = {'icd9': icd}\n",
    "            #test[i].update({s: [[a, b], rand_date]})\n",
    "            test[uuid].update({s: [c, [a, b], rand_date]})\n",
    "        \n",
    "        \n",
    "# for k, v in dd[3822760232].items():\n",
    "#     print(k)\n",
    "    \n",
    "import json\n",
    "with open('file_icd.txt', 'w') as file:\n",
    "     file.write(json.dumps(test))"
   ]
  },
  {
   "cell_type": "code",
   "execution_count": null,
   "metadata": {},
   "outputs": [],
   "source": [
    "#service_ids\n",
    "\n",
    "#cuis = df[['item', 'attributes']][df['service_id'] == 20322501260].copy()\n",
    "\n",
    "df['score'], df['concept'] = df['attributes'].str.split(',', 1).str\n",
    "df1 = df.copy()\n",
    "df1['concept'] = df1['concept'].str[15:-1].copy()\n",
    "df1 = df1.drop(['score'], axis=1)\n",
    "df1['Merged'] = [{key: val} for key, val in zip(df1.item, df1.concept)]\n",
    "print(df1.head())\n"
   ]
  },
  {
   "cell_type": "code",
   "execution_count": null,
   "metadata": {},
   "outputs": [],
   "source": []
  }
 ],
 "metadata": {
  "kernelspec": {
   "display_name": "Python 3",
   "language": "python",
   "name": "python3"
  },
  "language_info": {
   "codemirror_mode": {
    "name": "ipython",
    "version": 3
   },
   "file_extension": ".py",
   "mimetype": "text/x-python",
   "name": "python",
   "nbconvert_exporter": "python",
   "pygments_lexer": "ipython3",
   "version": "3.7.3"
  }
 },
 "nbformat": 4,
 "nbformat_minor": 4
}
