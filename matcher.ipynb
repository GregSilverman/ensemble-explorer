{
 "cells": [
  {
   "cell_type": "code",
   "execution_count": 8,
   "metadata": {},
   "outputs": [
    {
     "name": "stdout",
     "output_type": "stream",
     "text": [
      "<function <lambda> at 0x10db4bea0>\n",
      "5\n",
      "span10 abc\n"
     ]
    }
   ],
   "source": [
    "import spacy \n",
    "from spacy.matcher import Matcher\n",
    "from spacy.tokens import Token\n",
    "\n",
    "nlp = spacy.load(\"en\")\n",
    "doc = nlp(\"Test 10 abc\")\n",
    "\n",
    "if not Token.get_extension('mytest'):\n",
    "    my_test = lambda token: 5\n",
    "    Token.set_extension('mytest', getter=my_test)\n",
    "\n",
    "print(my_test)\n",
    "matcher = Matcher(nlp.vocab)\n",
    "pattern = [{'SHAPE': 'dd'}, {}]   #  empty dict for \"any token\", or specify IS_ALPHA etc.\n",
    "matcher.add('test', None, pattern)\n",
    "\n",
    "matches = matcher(doc)\n",
    "for match_id, start, end in matches:\n",
    "    span = doc[start : end]\n",
    "    print(span[1]._.mytest)\n",
    "    # all your matches are two tokens, so you can refer to span[1]\n",
    "    if span[1]._.mytest == 5:\n",
    "        print(\"span\" + str(span))\n",
    "\n",
    "# matcher = Matcher(nlp.vocab)\n",
    "# pattern = [{'SHAPE': 'dd'}, {}]   #  empty dict for \"any token\", or specify IS_ALPHA etc.\n",
    "# matcher.add('test', None, pattern)\n",
    "\n",
    "# print('a')\n",
    "\n",
    "# matches = matcher(doc)\n",
    "# for match_id, start, end in matches:\n",
    "#     span = doc[start : end]\n",
    "#     print('aa')\n",
    "#     # all your matches are two tokens, so you can refer to span[1]\n",
    "#     if span[1]._.my_test == 2:\n",
    "#         print(span)"
   ]
  },
  {
   "cell_type": "code",
   "execution_count": 2,
   "metadata": {},
   "outputs": [],
   "source": [
    "#!python -m spacy validate"
   ]
  },
  {
   "cell_type": "code",
   "execution_count": 3,
   "metadata": {},
   "outputs": [
    {
     "name": "stdout",
     "output_type": "stream",
     "text": [
      "[(1618900948208871284, 10, 12)]\n",
      "88 highway\n"
     ]
    }
   ],
   "source": [
    "import spacy \n",
    "from spacy.matcher import Matcher\n",
    "from spacy.tokens import Token\n",
    "\n",
    "nlp = spacy.load(\"en\")\n",
    "#matcher = Matcher(nlp.vocab)\n",
    "\n",
    "if not Token.get_extension('is_speed'):\n",
    "    Token.set_extension('is_speed', getter=lambda token: token.text in ('miles', 'mph', 'miles per hour', 'highway speed'))\n",
    "\n",
    "pattern = [{'LEMMA': 'have'}, {'_': {'is_speed': True}}]\n",
    "matcher.add('HOW_FAST', None, pattern)\n",
    "\n",
    "doc = nlp(\"Car was going 299 highway speed. 809 mph. 88 highway speed\")\n",
    "\n",
    "matches = matcher(doc)\n",
    "\n",
    "print (matches)\n",
    "for match_id, start, end in matches:\n",
    "    span = doc[start : end]\n",
    "    print(span)\n",
    "    # all your matches are two tokens, so you can refer to span[1]\n",
    "    if span[1]._.is_speed:\n",
    "        print(f'span {span}')"
   ]
  },
  {
   "cell_type": "code",
   "execution_count": 9,
   "metadata": {},
   "outputs": [
    {
     "name": "stdout",
     "output_type": "stream",
     "text": [
      "[(17758482761287291853, 4, 6), (17758482761287291853, 11, 13)]\n",
      "highway speed\n",
      "highway speed\n"
     ]
    }
   ],
   "source": [
    "from spacy.matcher import PhraseMatcher\n",
    "\n",
    "matcher = PhraseMatcher(nlp.vocab)\n",
    "matcher.add('Speed', None, nlp(u'highway speed', 'miles per hour'))\n",
    "doc = nlp(\"Car was going 299 highway speed. 809 mph. 88 highway speed\")\n",
    "matches = matcher(doc)\n",
    "\n",
    "print(matches)\n",
    "\n",
    "for match_id, start, end in matches:\n",
    "    span = doc[start : end]\n",
    "    print(span)"
   ]
  },
  {
   "cell_type": "code",
   "execution_count": 5,
   "metadata": {},
   "outputs": [
    {
     "name": "stdout",
     "output_type": "stream",
     "text": [
      "True\n",
      "[(11792181371108107841, 1, 3)]\n"
     ]
    }
   ],
   "source": [
    "# https://github.com/explosion/spaCy/issues/1945\n",
    "\n",
    "from __future__ import unicode_literals\n",
    "from spacy.lang.en import English\n",
    "from spacy.matcher import PhraseMatcher\n",
    "\n",
    "text = \"deep machine learning\"\n",
    "mw_list = [\"machine learning\", \"deep blue\", \"planing machine\"]\n",
    "\n",
    "nlp = English()\n",
    "matcher = PhraseMatcher(nlp.vocab)\n",
    "matcher.add(\"MWE\", None, *[nlp.tokenizer(item) for item in mw_list])\n",
    "\n",
    "print(len(matcher(nlp(text))) == 1)\n",
    "print(matcher(nlp(text)))"
   ]
  },
  {
   "cell_type": "code",
   "execution_count": 6,
   "metadata": {},
   "outputs": [
    {
     "name": "stdout",
     "output_type": "stream",
     "text": [
      "[]\n"
     ]
    }
   ],
   "source": [
    "# import spacy\n",
    "# from spacy.matcher import Matcher\n",
    "\n",
    "# nlp = spacy.load(\"en\")\n",
    "# matcher = Matcher(nlp.vocab)\n",
    "# #pattern = [{'_': {'speed': {'REGEX': '[\\d{2}]'}}}]\n",
    "# #pattern = [{'_': {'country': {'REGEX': '^([Uu](\\\\.?|nited) ?[Ss](\\\\.?|tates)'}}}]\n",
    "# #pattern = [{'LEMMA': {'REGEX': '^([Uu](\\\\.?|nited) ?[Ss](\\\\.?|tates)'}}, {'LOWER': 'president'}]\n",
    "                 \n",
    "# matcher.add('SPEED', None, pattern)\n",
    "# doc = nlp(\"Car was going 55 highway\")\n",
    "# matches = matcher(doc)\n",
    "\n",
    "# print (matches)\n",
    "    \n",
    "# for match_id, start, end in matches:\n",
    "#     span = doc[start : end]\n",
    "#     print(span)\n",
    "     \n"
   ]
  },
  {
   "cell_type": "code",
   "execution_count": 22,
   "metadata": {},
   "outputs": [
    {
     "name": "stdout",
     "output_type": "stream",
     "text": [
      "[(1618900948208871284, 0, 1)]\n",
      "span55\n"
     ]
    }
   ],
   "source": [
    "matcher = Matcher(nlp.vocab)\n",
    "#pattern = [{'SHAPE': 'dd'}, {'IS_DIGIT': True}]   #  empty dict for \"any token\", or specify IS_ALPHA etc.\n",
    "pattern = [{\"IS_DIGIT\": True}]   #  empty dict for \"any token\", or specify IS_ALPHA etc.\n",
    "matcher.add('test', None, pattern)\n",
    "\n",
    "#doc = nlp(\"Car was going 55 highway\")\n",
    "doc = nlp(\"55 highway\")\n",
    "matches = matcher(doc)\n",
    "\n",
    "print(matches)\n",
    "\n",
    "for match_id, start, end in matches:\n",
    "    span = doc[start : end]\n",
    "    # all your matches are two tokens, so you can refer to span[1]\n",
    "    print(\"span\" + str(span))"
   ]
  },
  {
   "cell_type": "code",
   "execution_count": 72,
   "metadata": {},
   "outputs": [
    {
     "name": "stdout",
     "output_type": "stream",
     "text": [
      "[(14771884224424469583, 0, 1)]\n",
      "444\n"
     ]
    }
   ],
   "source": [
    "# https://spacy.io/usage/linguistic-features#regex\n",
    "import spacy\n",
    "from spacy.matcher import Matcher\n",
    "import re\n",
    "\n",
    "nlp = spacy.load('en_core_web_sm')\n",
    "speed_flag = lambda text: bool(re.search(r'(?i)\\d+\\s?mph', text))\n",
    "IS_SPEED = nlp.vocab.add_flag(speed_flag)\n",
    "\n",
    "matcher = Matcher(nlp.vocab)\n",
    "matcher.add('MPH', None, [{IS_SPEED: True}])\n",
    "\n",
    "doc = nlp(u'44 MPH hhh.')\n",
    "matches = matcher(doc)\n",
    "\n",
    "print(matches)\n",
    "for match_id, start, end in matches:\n",
    "    span = doc[start:end]\n",
    "    print(span.text)"
   ]
  },
  {
   "cell_type": "code",
   "execution_count": 73,
   "metadata": {},
   "outputs": [
    {
     "name": "stdout",
     "output_type": "stream",
     "text": [
      "[(14771884224424469583, 1, 2)]\n",
      "MPH\n"
     ]
    }
   ],
   "source": [
    "nlp = spacy.load('en_core_web_sm')\n",
    "speed_flag = lambda text: bool(re.search(r'(?i)s?mph', text))\n",
    "IS_USPEED = nlp.vocab.add_flag(speed_flag)\n",
    "\n",
    "matcher = Matcher(nlp.vocab)\n",
    "matcher.add('MPH', None, [{IS_USPEED: True}])\n",
    "\n",
    "doc = nlp(u'444 MPH hhh.')\n",
    "matches = matcher(doc)\n",
    "\n",
    "print(matches)\n",
    "for match_id, start, end in matches:\n",
    "    span = doc[start:end]\n",
    "    print(span.text)"
   ]
  },
  {
   "cell_type": "code",
   "execution_count": 81,
   "metadata": {},
   "outputs": [
    {
     "name": "stdout",
     "output_type": "stream",
     "text": [
      "The matched text: '5634 mph'\n",
      "The matched text: '90 mpH'\n"
     ]
    }
   ],
   "source": [
    "# https://github.com/explosion/spaCy/issues/882\n",
    "# https://github.com/explosion/spaCy/issues/1567#issuecomment-356589346\n",
    "import spacy\n",
    "import re\n",
    "nlp = spacy.load('en', disable=['parser', 'tagger', 'ner'])\n",
    "doc = nlp(\"This is a number: 5634 mph. This is another number: 90 mpH.\")\n",
    "\n",
    "NUM_PATTERN = re.compile(r\"(?i)\\d+\\s?mph\")\n",
    "\n",
    "for match in re.finditer(NUM_PATTERN, doc.text):\n",
    "    start, end = match.span()\n",
    "    print(f\"The matched text: '{doc.text[start:end]}'\")\n",
    "    span = doc.char_span(start, end)\n",
    "    # Now you have a Span object and you can do everything."
   ]
  },
  {
   "cell_type": "code",
   "execution_count": 96,
   "metadata": {},
   "outputs": [
    {
     "name": "stdout",
     "output_type": "stream",
     "text": [
      "The matched text: '5634 miles perh'\n",
      "The matched text: '90 m pH'\n"
     ]
    }
   ],
   "source": [
    "\n",
    "\n",
    "import spacy\n",
    "import re\n",
    "nlp = spacy.load('en', disable=['parser', 'tagger', 'ner'])\n",
    "doc = nlp(\"This is a number: 5634 miles perh. This is another number: 90 m pH.\")\n",
    "\n",
    "#NUM_PATTERN = re.compile(r\"(?i)\\d+\\s?mph\") #r'deff?in[ia]tely'\n",
    "NUM_PATTERN = re.compile(r'(?i)\\d+\\s?m(iles)?\\s?p(er)?\\s?h(our)?')\n",
    "\n",
    "for match in re.finditer(NUM_PATTERN, doc.text):\n",
    "    start, end = match.span()\n",
    "    print(f\"The matched text: '{doc.text[start:end]}'\")\n",
    "    span = doc.char_span(start, end)\n",
    "    # Now you have a Span object and you can do everything."
   ]
  },
  {
   "cell_type": "code",
   "execution_count": null,
   "metadata": {},
   "outputs": [],
   "source": []
  }
 ],
 "metadata": {
  "kernelspec": {
   "display_name": "Python 3",
   "language": "python",
   "name": "python3"
  },
  "language_info": {
   "codemirror_mode": {
    "name": "ipython",
    "version": 3
   },
   "file_extension": ".py",
   "mimetype": "text/x-python",
   "name": "python",
   "nbconvert_exporter": "python",
   "pygments_lexer": "ipython3",
   "version": "3.7.3"
  }
 },
 "nbformat": 4,
 "nbformat_minor": 2
}
